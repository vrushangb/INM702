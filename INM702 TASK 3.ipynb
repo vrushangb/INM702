{
 "cells": [
  {
   "cell_type": "markdown",
   "id": "05bc207a",
   "metadata": {},
   "source": [
    "TASK 3"
   ]
  },
  {
   "cell_type": "code",
   "execution_count": 1,
   "id": "350ba4d6",
   "metadata": {},
   "outputs": [],
   "source": [
    "import tensorflow as tf\n",
    "import numpy as np\n",
    "import matplotlib.pyplot as plt\n",
    "import copy"
   ]
  },
  {
   "cell_type": "code",
   "execution_count": 2,
   "id": "b040f519",
   "metadata": {},
   "outputs": [],
   "source": [
    "(X_train, y_train), (X_test, y_test) = tf.keras.datasets.fashion_mnist.load_data()"
   ]
  },
  {
   "cell_type": "code",
   "execution_count": 3,
   "id": "d3ea4c22",
   "metadata": {},
   "outputs": [
    {
     "name": "stdout",
     "output_type": "stream",
     "text": [
      "x_train shape: (60000, 28, 28) y_train shape: (60000,)\n",
      "x_train shape: (10000, 28, 28) y_train shape: (10000,)\n"
     ]
    }
   ],
   "source": [
    "print(\"x_train shape:\", X_train.shape, \"y_train shape:\", y_train.shape)\n",
    "print(\"x_train shape:\", X_test.shape, \"y_train shape:\", y_test.shape)"
   ]
  },
  {
   "cell_type": "code",
   "execution_count": 4,
   "id": "651f1600",
   "metadata": {},
   "outputs": [
    {
     "data": {
      "text/plain": [
       "<matplotlib.image.AxesImage at 0x29357fe5b50>"
      ]
     },
     "execution_count": 4,
     "metadata": {},
     "output_type": "execute_result"
    },
    {
     "data": {
      "image/png": "[encoded data removed]",
      "text/plain": [
       "<Figure size 432x288 with 1 Axes>"
      ]
     },
     "metadata": {
      "needs_background": "light"
     },
     "output_type": "display_data"
    }
   ],
   "source": [
    "plt.imshow(X_train[28286])"
   ]
  },
  {
   "cell_type": "code",
   "execution_count": 5,
   "id": "fb586aaf",
   "metadata": {},
   "outputs": [
    {
     "name": "stdout",
     "output_type": "stream",
     "text": [
      "(784, 50000) (10000, 784)\n",
      "(10, 50000) (10, 10000)\n"
     ]
    },
    {
     "data": {
      "text/plain": [
       "array([[0., 1., 1., ..., 0., 0., 0.],\n",
       "       [0., 0., 0., ..., 0., 1., 0.],\n",
       "       [0., 0., 0., ..., 0., 0., 0.],\n",
       "       ...,\n",
       "       [0., 0., 0., ..., 0., 0., 1.],\n",
       "       [0., 0., 0., ..., 0., 0., 0.],\n",
       "       [1., 0., 0., ..., 0., 0., 0.]])"
      ]
     },
     "execution_count": 5,
     "metadata": {},
     "output_type": "execute_result"
    }
   ],
   "source": [
    "X_train = X_train.reshape(X_train.shape[0],-1).T[:,: -10000]\n",
    "X_test = X_test.reshape(X_test.shape[0],-1)\n",
    "\n",
    "y_tr = np.zeros((y_train.shape[0],10))\n",
    "y_tr[np.arange(y_train.size),y_train] = 1\n",
    "y_val = y_tr.T[:,: -10000]\n",
    "y_train = y_tr.T[:,: -10000]\n",
    "\n",
    "y_ts = np.zeros((y_test.shape[0],10))\n",
    "y_ts[np.arange(y_test.size), y_test] = 1\n",
    "y_test = y_ts.T\n",
    "\n",
    "print(X_train.shape, X_test.shape)\n",
    "\n",
    "print(y_train.shape, y_test.shape)\n",
    "\n",
    "y_train"
   ]
  },
  {
   "cell_type": "code",
   "execution_count": 6,
   "id": "2a2fcb5c",
   "metadata": {},
   "outputs": [
    {
     "name": "stdout",
     "output_type": "stream",
     "text": [
      "50000\n",
      "[0. 0. 0. ... 0. 1. 0.]\n"
     ]
    }
   ],
   "source": [
    "print(len(y_train[0]))\n",
    "print(y_train[1])"
   ]
  },
  {
   "cell_type": "code",
   "execution_count": 7,
   "id": "82dcda04",
   "metadata": {},
   "outputs": [
    {
     "name": "stdout",
     "output_type": "stream",
     "text": [
      "[[0. 1. 1. ... 0. 0. 0.]\n",
      " [0. 0. 0. ... 0. 1. 0.]\n",
      " [0. 0. 0. ... 0. 0. 0.]\n",
      " ...\n",
      " [0. 0. 0. ... 0. 0. 1.]\n",
      " [0. 0. 0. ... 0. 0. 0.]\n",
      " [1. 0. 0. ... 0. 0. 0.]]\n"
     ]
    }
   ],
   "source": [
    "print(y_train[0:10])"
   ]
  },
  {
   "cell_type": "code",
   "execution_count": 9,
   "id": "e0bb74ce",
   "metadata": {},
   "outputs": [
    {
     "ename": "IndentationError",
     "evalue": "unindent does not match any outer indentation level (<tokenize>, line 42)",
     "output_type": "error",
     "traceback": [
      "\u001b[1;36m  File \u001b[1;32m\"<tokenize>\"\u001b[1;36m, line \u001b[1;32m42\u001b[0m\n\u001b[1;33m    def mult(self, a, b):\u001b[0m\n\u001b[1;37m    ^\u001b[0m\n\u001b[1;31mIndentationError\u001b[0m\u001b[1;31m:\u001b[0m unindent does not match any outer indentation level\n"
     ]
    }
   ],
   "source": [
    "import numpy as np\n",
    "\n",
    "\n",
    "#activation_function = sigmoid\n",
    "#activation_derivative = d_sigmoid\n",
    "\n",
    "from scipy.stats import truncnorm\n",
    "def truncated_normal(mean=0, sd=1, low=0, upp=10):\n",
    "    return truncnorm(\n",
    "        (low - mean) / sd, (upp - mean) / sd, loc=mean, scale=sd)\n",
    "class NeuralNetwork:\n",
    "    \n",
    "    def sigmoid(self, X):\n",
    "        return 1/(1+np.exp(-X))\n",
    "    \n",
    "    def derivsigmoid(self,X):\n",
    "        return X * (1 - X)\n",
    "    \n",
    "    def relu(self, X):\n",
    "      return max(0,X)\n",
    "\n",
    "    def softmax(self, X):\n",
    "\n",
    "      print(X)\n",
    "      for j in range (len(X[0])):\n",
    "        \n",
    "        sumexp = 0\n",
    "        for i in range (len(X)):\n",
    "          sumexp += np.exp(X[i][j])\n",
    "          \n",
    "        for i in range (len(X)):\n",
    "          X[i][j] = np.exp(X[i][j]) / sumexp\n",
    "      return X  \n",
    "def crossentropy(self, X, y):\n",
    "      #closs = copy.deepcopy(X)\n",
    "      loss = 0\n",
    "      for j in range (len(X[0])):\n",
    "        for i in range (len(X)):\n",
    "          loss += np.log(X[i][j]) * y[i][j]\n",
    "      return loss * (-1)\n",
    "      \n",
    "    def mult(self, a, b):\n",
    "      return a*b\n",
    "\n",
    "    def square(a):\n",
    "      return 0.5(a**2)\n",
    "    \n",
    "    def __init__(self, \n",
    "                 no_of_in_nodes, no_of_out_nodes, \n",
    "                 no_of_hidden_nodes, learning_rate):\n",
    "        \n",
    "        self.no_of_in_nodes = no_of_in_nodes\n",
    "        self.no_of_out_nodes = no_of_out_nodes\n",
    "        self.no_of_hidden_nodes = no_of_hidden_nodes\n",
    "        self.learning_rate = learning_rate \n",
    "        self.create_weight_matrices()\n",
    "        \n",
    "    def create_weight_matrices(self):\n",
    "        \"\"\" A method to initialize the weight matrices of the neural network\"\"\"\n",
    "        rad = 0.5 \n",
    "        X = truncated_normal(mean=1, sd=1, low=-rad, upp=rad)\n",
    "        self.weights_in_hidden = X.rvs((self.no_of_hidden_nodes, \n",
    "                                       self.no_of_in_nodes))\n",
    "        rad = 0.5 \n",
    "        X = truncated_normal(mean=1, sd=1, low=-rad, upp=rad)\n",
    "        self.weights_hidden_out = X.rvs((self.no_of_out_nodes, \n",
    "                                        self.no_of_hidden_nodes))\n",
    "         def train(self, input_vector, target_vector,epochs=10):\n",
    "        # input_vector and target_vector can be tuple, list or ndarray\n",
    "        \n",
    "        input_vector = np.array(input_vector, ndmin=2)\n",
    "        target_vector = np.array(target_vector, ndmin=2)\n",
    "        \n",
    "        vecder = np.vectorize(self.derivsigmoid)\n",
    "        vecact = np.vectorize(self.sigmoid)\n",
    "        vecmult = np.vectorize(self.mult)\n",
    "        vecsqer = np.vectorize(self.square)\n",
    "        #vecsoft = np.vectorize(self.softmax)\n",
    "        print(\"Test , \", target_vector[:100])\n",
    "        for i in range(epochs):\n",
    "        \n",
    "            print(\"IP Vec\",len(input_vector),\" and \", len(input_vector[0]))\n",
    "            # forward pass\n",
    "            output_vector1 = np.dot(self.weights_in_hidden, input_vector)\n",
    "            print(\"OP Vec1\",len(output_vector1),\" and \", len(output_vector1[0]))\n",
    "            \n",
    "            output_vector_hidden = vecact(output_vector1)\n",
    "\n",
    "            output_vector2 = np.dot(self.weights_hidden_out, output_vector_hidden)\n",
    "            print(\"OP Vec2\",len(output_vector2),\" and \", len(output_vector2[0]))\n",
    "            #print(\"Op last layer \",output_vector2)\n",
    "            #output_vector_network = vecact(output_vector2)\n",
    "            #output_vector_network = vecsoft(output_vector2)\n",
    "            output_vector_network = self.softmax(output_vector2)\n",
    "            #convert softmax op to label values!!!!!!!\n",
    "            print(output_vector_network[0][1],\" and sum =1?? \", output_vector_network[1][1])\n",
    "            \n",
    "            # derivative of the loss\n",
    "            #loss = \n",
    "            output_errors = target_vector - output_vector_network#vecsqer(loss) #self.crossentropy(output_vector_network, target_vector)\n",
    "            print(\"OP Errors -> \",output_errors)\n",
    "             # derivative of the activation function\n",
    "            derivative_output = vecder (output_vector_network)  # derivative here \n",
    "            \n",
    "            tmp = output_errors * derivative_output    #vecmult(derivative_output, output_errors) \n",
    "            # multiply with the previous activation (output_vector_hidden)\n",
    "            who_update = self.learning_rate * np.dot(tmp, output_vector_hidden.T)\n",
    "\n",
    "            # calculate hidden errors:\n",
    "            hidden_errors = np.dot(self.weights_hidden_out.T, output_errors * derivative_output )\n",
    "\n",
    "            derivative_hidden = vecder(output_vector_hidden)    \n",
    "            tmp = hidden_errors * derivative_hidden \n",
    "            wih_update = self.learning_rate * np.dot(tmp, input_vector.T)\n",
    "\n",
    "            # update the weights:\n",
    "            self.weights_in_hidden += wih_update\n",
    "            self.weights_hidden_out += who_update\n",
    "\n",
    "\n",
    "    def run(self, input_vector):\n",
    "        # input_vector can be tuple, list or ndarray\n",
    "        vecder = np.vectorize(self.derivsigmoid)\n",
    "        vecact = np.vectorize(self.sigmoid)\n",
    "        #vecsoft = np.vectorize(self.softmax)\n",
    "\n",
    "        \n",
    "        input_vector = np.array(input_vector, ndmin=2).T\n",
    "        output_vector = np.dot(self.weights_in_hidden, input_vector)\n",
    "        output_vector = vecact(output_vector)\n",
    "        \n",
    "        output_vector = np.dot(self.weights_hidden_out, output_vector)\n",
    "        #output_vector = vecsoft(output_vector)\n",
    "        output_vector = self.softmax(output_vector)\n",
    "        \n",
    "        return output_vector.T"
   ]
  },
  {
   "cell_type": "code",
   "execution_count": 10,
   "id": "126de509",
   "metadata": {},
   "outputs": [
    {
     "ename": "NameError",
     "evalue": "name 'NeuralNetwork' is not defined",
     "output_type": "error",
     "traceback": [
      "\u001b[1;31m---------------------------------------------------------------------------\u001b[0m",
      "\u001b[1;31mNameError\u001b[0m                                 Traceback (most recent call last)",
      "\u001b[1;32m<ipython-input-10-ae39ddad098a>\u001b[0m in \u001b[0;36m<module>\u001b[1;34m\u001b[0m\n\u001b[1;32m----> 1\u001b[1;33m simple_network = NeuralNetwork(no_of_in_nodes=28*28, \n\u001b[0m\u001b[0;32m      2\u001b[0m                                \u001b[0mno_of_out_nodes\u001b[0m\u001b[1;33m=\u001b[0m\u001b[1;36m10\u001b[0m\u001b[1;33m,\u001b[0m\u001b[1;33m\u001b[0m\u001b[1;33m\u001b[0m\u001b[0m\n\u001b[0;32m      3\u001b[0m                                \u001b[0mno_of_hidden_nodes\u001b[0m\u001b[1;33m=\u001b[0m\u001b[1;36m4\u001b[0m\u001b[1;33m,\u001b[0m\u001b[1;33m\u001b[0m\u001b[1;33m\u001b[0m\u001b[0m\n\u001b[0;32m      4\u001b[0m                                learning_rate=0.01)\n\u001b[0;32m      5\u001b[0m \u001b[0msimple_network\u001b[0m\u001b[1;33m.\u001b[0m\u001b[0mtrain\u001b[0m\u001b[1;33m(\u001b[0m\u001b[0mX_train\u001b[0m\u001b[1;33m,\u001b[0m\u001b[0my_train\u001b[0m\u001b[1;33m)\u001b[0m\u001b[1;33m\u001b[0m\u001b[1;33m\u001b[0m\u001b[0m\n",
      "\u001b[1;31mNameError\u001b[0m: name 'NeuralNetwork' is not defined"
     ]
    }
   ],
   "source": [
    "simple_network = NeuralNetwork(no_of_in_nodes=28*28, \n",
    "                               no_of_out_nodes=10, \n",
    "                               no_of_hidden_nodes=4,\n",
    "                               learning_rate=0.01)\n",
    "simple_network.train(X_train,y_train)\n",
    "\n",
    "y_hat = simple_network.run(X_test)\n",
    "print(\"The type is\",type(y_hat))\n",
    "\n",
    "# converting softmax values to labels\n",
    "op = copy.deepcopy(y_hat)\n",
    "def convertop(y,op):\n",
    "  for i in range (len(y)):\n",
    "      maxv = -1\n",
    "      posi = posj = -1\n",
    "      for j in range(len(y[0])):\n",
    "          #print(j)\n",
    "          if y[i][j]>maxv:\n",
    "              maxv = y[i][j]\n",
    "              posi = i\n",
    "              posj = j\n",
    "          op[i][j] = 0\n",
    "      op[posi][posj] = 1\n",
    "  return op\n",
    "\n",
    "ycheck = convertop(y_hat,op)\n",
    "#print(\"Acc1 = \",sum(ycheck==y_test)/len(ycheck))\n",
    "\n",
    "\n",
    "\n",
    "print(len(y_test))"
   ]
  },
  {
   "cell_type": "code",
   "execution_count": 11,
   "id": "91d7815f",
   "metadata": {},
   "outputs": [
    {
     "ename": "NameError",
     "evalue": "name 'y_hat' is not defined",
     "output_type": "error",
     "traceback": [
      "\u001b[1;31m---------------------------------------------------------------------------\u001b[0m",
      "\u001b[1;31mNameError\u001b[0m                                 Traceback (most recent call last)",
      "\u001b[1;32m<ipython-input-11-05ca870d22a5>\u001b[0m in \u001b[0;36m<module>\u001b[1;34m\u001b[0m\n\u001b[1;32m----> 1\u001b[1;33m \u001b[0mprint\u001b[0m\u001b[1;33m(\u001b[0m\u001b[0my_hat\u001b[0m\u001b[1;33m[\u001b[0m\u001b[1;36m933\u001b[0m\u001b[1;33m]\u001b[0m\u001b[1;33m)\u001b[0m\u001b[1;33m\u001b[0m\u001b[1;33m\u001b[0m\u001b[0m\n\u001b[0m",
      "\u001b[1;31mNameError\u001b[0m: name 'y_hat' is not defined"
     ]
    }
   ],
   "source": [
    "print(y_hat[933])"
   ]
  },
  {
   "cell_type": "code",
   "execution_count": null,
   "id": "05767244",
   "metadata": {},
   "outputs": [],
   "source": [
    "print(ycheck[:15])"
   ]
  },
  {
   "cell_type": "code",
   "execution_count": null,
   "id": "c5c8e465",
   "metadata": {},
   "outputs": [],
   "source": [
    "newy = y_test.T\n",
    "print(newy[:15])"
   ]
  },
  {
   "cell_type": "code",
   "execution_count": null,
   "id": "71bd6b71",
   "metadata": {},
   "outputs": [],
   "source": [
    "print(newy.shape)\n",
    "print(len(newy))\n",
    "print(ycheck.shape)"
   ]
  },
  {
   "cell_type": "code",
   "execution_count": null,
   "id": "efb175b7",
   "metadata": {},
   "outputs": [],
   "source": [
    "count = 0\n",
    "for i in range (len(newy)):\n",
    "  for j in range (len(newy[0])):\n",
    "    if newy[i][j] == 1 and ycheck [i][j] == 1:\n",
    "      #print(\"yes\")\n",
    "      count += 1\n",
    "\n",
    "print(\"Accuracy = {} %\".format(count/len(newy)))"
   ]
  }
 ],
 "metadata": {
  "kernelspec": {
   "display_name": "Python 3",
   "language": "python",
   "name": "python3"
  },
  "language_info": {
   "codemirror_mode": {
    "name": "ipython",
    "version": 3
   },
   "file_extension": ".py",
   "mimetype": "text/x-python",
   "name": "python",
   "nbconvert_exporter": "python",
   "pygments_lexer": "ipython3",
   "version": "3.8.8"
  }
 },
 "nbformat": 4,
 "nbformat_minor": 5
}
